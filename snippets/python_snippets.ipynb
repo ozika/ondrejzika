{
 "cells": [
  {
   "cell_type": "markdown",
   "metadata": {},
   "source": [
    "## Pandas tricks\n",
    "\n",
    "### DF Transformations\n",
    "#### Wide to long\n",
    "```python\n",
    "tdf = tdf.melt(id_vars = [\"Session\", \"PROLIFICID\"], value_vars=columns)\n",
    "```"
   ]
  },
  {
   "cell_type": "markdown",
   "metadata": {},
   "source": [
    "### Lambda function\n",
    "\n",
    "Take first value of each subgroup \n",
    "\n",
    "```python\n",
    "df.groupby(by=\"Session\")[\"date\"].apply(lambda x: np.array(x.reset_index().iloc[0,1]))\n",
    "\n",
    "```"
   ]
  },
  {
   "cell_type": "markdown",
   "metadata": {},
   "source": [
    "## Plotting (Seaborn and MPL)\n",
    "\n",
    "### Legend manipulation\n",
    "\n",
    "Change labels on existing legend\n",
    "```python\n",
    "for t, l  in zip(ax.get_legend().texts, new_labels):\n",
    "    t.set_text(l)\n",
    "```\n",
    "\n",
    "Remove legend border\n",
    "```python\n",
    "ax.get_legend().get_frame().set_linewidth(0.0)\n",
    "```\n"
   ]
  },
  {
   "cell_type": "markdown",
   "metadata": {},
   "source": [
    "## Statistics\n",
    "```python\n",
    "import pingouin as pg\n",
    "from statsmodels.stats.multitest import multipletests\n",
    "aov = pg.mixed_anova(data=stdf, dv='value', between='cl', within='variable',\n",
    "                     subject='id', correction=False, effsize=\"np2\")\n",
    "pg.print_table(aov)\n",
    "resdf = pd.DataFrame()\n",
    "for c in [0,1]:\n",
    "    tdf = stdf.loc[stdf[\"cl\"]==c,:]\n",
    "    res = pg.ttest( x=tdf.loc[tdf[\"variable\"]==\"TF3_NegativeAffect\",\"value\"],\n",
    "                    y=tdf.loc[tdf[\"variable\"]==\"TF2_PhysiolAnx\",\"value\"],\n",
    "                    paired=True)\n",
    "    res[\"contrast\"] = \"TF3>TF2, cluster \"+str(c)\n",
    "    resdf = pd.concat([resdf, res], axis=0)\n",
    "\n",
    "    res = pg.ttest( x=tdf.loc[tdf[\"variable\"]==\"TF3_NegativeAffect\",\"value\"],\n",
    "                    y=tdf.loc[tdf[\"variable\"]==\"TF1_CognAnxDepr\",\"value\"],\n",
    "                    paired=True)\n",
    "    res[\"contrast\"] = \"TF3>TF1, cluster \"+str(c)\n",
    "    resdf = pd.concat([resdf, res], axis=0)\n",
    "\n",
    "    res = pg.ttest( x=tdf.loc[tdf[\"variable\"]==\"TF1_CognAnxDepr\",\"value\"],\n",
    "                    y=tdf.loc[tdf[\"variable\"]==\"TF2_PhysiolAnx\",\"value\"],\n",
    "                    paired=True)\n",
    "    res[\"contrast\"] = \"TF1>TF2, cluster \"+str(c)\n",
    "    resdf = pd.concat([resdf, res], axis=0)\n",
    "\n",
    "\n",
    "\n",
    "for t in trait_factor_names:\n",
    "    tdf = stdf.loc[stdf[\"variable\"]==t,:]\n",
    "    res = pg.ttest( x=tdf.loc[tdf[\"cl\"]==0,\"value\"],\n",
    "                    y=tdf.loc[tdf[\"cl\"]==1,\"value\"],\n",
    "                    paired=False)\n",
    "    res[\"contrast\"] = \"cl0>cl1\"+t\n",
    "    resdf = pd.concat([resdf, res], axis=0)\n",
    "\n",
    "resdf[\"p-holm\"] = np.round(multipletests(resdf[\"p-val\"], alpha=0.05, method=\"holm\")[1],4)\n",
    "pg.print_table(resdf)\n",
    "\n",
    "```"
   ]
  }
 ],
 "metadata": {
  "kernelspec": {
   "display_name": "Python 3.10.6 64-bit",
   "language": "python",
   "name": "python3"
  },
  "language_info": {
   "name": "python",
   "version": "3.10.6"
  },
  "orig_nbformat": 4,
  "vscode": {
   "interpreter": {
    "hash": "8a94588eda9d64d9e9a351ab8144e55b1fabf5113b54e67dd26a8c27df0381b3"
   }
  }
 },
 "nbformat": 4,
 "nbformat_minor": 2
}
