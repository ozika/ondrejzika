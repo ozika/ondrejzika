{
 "cells": [
  {
   "cell_type": "markdown",
   "metadata": {},
   "source": [
    "# Berlin Carsharing App\n",
    "\n",
    "Over the past few years, Berlin has experienced boom in carsharing. One way that they main companies compete is by distinct pricing strategies - some charge by km, some by minute, some charge by minute, but have special deals in which they charge by km, etc. To help one make the best decision for a given trip I made this simple site where you simply need to input expected km, duration and parking time (+ a few more bits in the extended version) and it lists the price for each company, as well as the best deal available. \n",
    "\n",
    "\n",
    "https://ozika-berlin-travel-cost-scriptsberlin-transport-app-rfbxe9.streamlit.app/"
   ]
  },
  {
   "cell_type": "code",
   "execution_count": null,
   "metadata": {},
   "outputs": [],
   "source": []
  },
  {
   "cell_type": "code",
   "execution_count": null,
   "metadata": {},
   "outputs": [],
   "source": []
  }
 ],
 "metadata": {
  "kernelspec": {
   "display_name": "Python 3.10.6 64-bit",
   "language": "python",
   "name": "python3"
  },
  "language_info": {
   "codemirror_mode": {
    "name": "ipython",
    "version": 3
   },
   "file_extension": ".py",
   "mimetype": "text/x-python",
   "name": "python",
   "nbconvert_exporter": "python",
   "pygments_lexer": "ipython3",
   "version": "3.10.5"
  },
  "vscode": {
   "interpreter": {
    "hash": "8a94588eda9d64d9e9a351ab8144e55b1fabf5113b54e67dd26a8c27df0381b3"
   }
  }
 },
 "nbformat": 4,
 "nbformat_minor": 2
}