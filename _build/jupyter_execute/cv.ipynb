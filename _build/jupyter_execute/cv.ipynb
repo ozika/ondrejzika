{
 "cells": [
  {
   "cell_type": "markdown",
   "metadata": {},
   "source": [
    "# CV\n",
    "\n",
    "{download}`Full CV PDF<docs/Zika_Ondrej_CV.pdf>`\n",
    "\n",
    "#### Education\n",
    "\n",
    "**2015 - 2019: DPhil in Clinical Neuroscience**  \n",
    "*Oxford University, UK* \n",
    "\n",
    "**2010 - 2014: BScEcon Marketing and Psychology**  \n",
    "*Aberystwyth University, Wales*\n",
    "\n",
    "---\n",
    " \n",
    "#### Academic positions\n",
    "\n",
    "**2019 - present: Postdoc in Computational Cognitive Neuroscience**  \n",
    "*w/ Nico Schuck, Max Planck Institute for Human Development, Berlin*\n",
    "\n",
    "**2021 - 2022: Guest Editor of Special Issue on Intolerance of Uncertainty**  \n",
    "*International Journal for Psychophysiology*\n",
    "\n",
    "**2014 - 2015: Research Assistant in Affective Neuroscience**  \n",
    "*w/ Sonia Bishop lab, Oxford*\n",
    "\n",
    "**2013 - 2014: Visiting Rsearcher**  \n",
    "*University of Bangor, w/ Guillaume Thierry*\n",
    "\n",
    "**2012 - 2013: Research Assistant**  \n",
    "*w/ John O'Doherty lab, California Institute of Technology, US*\n",
    "\n",
    "---\n",
    "\n",
    "#### Other positions\n",
    "\n",
    "**2016 - 2020: Research Analyst and Developer**  \n",
    "*German Ministry of Justice and University of Westminster*\n",
    "\n",
    "**2015 - 2016: Statistics Consultant**  \n",
    "*University of Oxford, Department of Law*\n",
    "\n",
    "\n",
    "\n"
   ]
  }
 ],
 "metadata": {
  "kernelspec": {
   "display_name": "Python 3.10.6 64-bit",
   "language": "python",
   "name": "python3"
  },
  "language_info": {
   "codemirror_mode": {
    "name": "ipython",
    "version": 3
   },
   "file_extension": ".py",
   "mimetype": "text/x-python",
   "name": "python",
   "nbconvert_exporter": "python",
   "pygments_lexer": "ipython3",
   "version": "3.10.5"
  },
  "vscode": {
   "interpreter": {
    "hash": "8a94588eda9d64d9e9a351ab8144e55b1fabf5113b54e67dd26a8c27df0381b3"
   }
  }
 },
 "nbformat": 4,
 "nbformat_minor": 2
}