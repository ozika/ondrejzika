{
 "cells": [
  {
   "cell_type": "markdown",
   "metadata": {},
   "source": [
    "# Collaborators and funding\n",
    "\n",
    "I am very fortunate to be able to work with the following scientists:\n",
    "\n",
    "[Nico Schuck](https://schucklab.gitlab.io/), MPIB, Hamburg  \n",
    "[Sam Hall-McMaster](https://scholar.google.com/citations?user=4qeqKOgAAAAJ&hl=en), MPIB, Harvard  \n",
    "[Katja Wiech](https://www.ndcn.ox.ac.uk/team/katja-wiech), Oxford  \n",
    "[Claire Gillan](https://gillanlab.com/clairegillan/), Trinity College Dublin  \n",
    "[Michael Browning](https://www.psych.ox.ac.uk/team/michael-browning), Oxford  \n",
    "[Andrea Reincke](https://www.psych.ox.ac.uk/team/andrea-reinecke), Oxford  \n",
    "[Alex Pike](https://www.york.ac.uk/psychology/staff/academicstaff/pike,-alex/), York  \n",
    "[Luianta Verra](https://www.mpib-berlin.mpg.de/staff/luianta-verra), MPIB  \n",
    "[Christoph Koch](https://scholar.google.com/citations?user=0J-wrtwAAAAJ&hl=de), MPIB  \n",
    "[Karolina Finc](https://kfinc.github.io/), Copernicus University Torun  \n",
    "[Nadesha Trudel](https://scholar.google.co.uk/citations?user=axXLcK4AAAAJ&hl=de), UCL  \n",
    "[Lenanrt Luttegau](https://scholar.google.com/citations?user=mQLH67MAAAAJ&hl=de), UCL  \n",
    "[Elisa Buchberger](https://scholar.google.com/citations?user=vJhsYjIAAAAJ&hl=de), MPIB  \n",
    "[Chi (Zoe) Ngo](https://www.mpib-berlin.mpg.de/staff/chi-zoe-ngo), MPIB  \n",
    "\n",
    "#### Funding\n",
    "\n",
    "```{image} img/dfg.jpg\n",
    ":width: 350px\n",
    "\n",
    "```\n",
    "```{image} img/jacobs.jpeg\n",
    ":width: 350px\n",
    "\n",
    "```\n"
   ]
  }
 ],
 "metadata": {
  "kernelspec": {
   "display_name": "Python 3.10.6 64-bit",
   "language": "python",
   "name": "python3"
  },
  "language_info": {
   "name": "python",
   "version": "3.10.6"
  },
  "orig_nbformat": 4,
  "vscode": {
   "interpreter": {
    "hash": "8a94588eda9d64d9e9a351ab8144e55b1fabf5113b54e67dd26a8c27df0381b3"
   }
  }
 },
 "nbformat": 4,
 "nbformat_minor": 2
}
