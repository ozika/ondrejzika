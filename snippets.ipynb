{
 "cells": [
  {
   "cell_type": "markdown",
   "metadata": {},
   "source": [
    "# Snippets\n",
    "\n",
    "A collection of useful code snippets that I find myself reusing over and over again. \n",
    "\n",
    "[Setting up SSH key pair](snippets/ssh.md)  \n",
    "[Creating virtual environments in Python and R](snippets/virtualenv.md)  \n",
    "\n",
    "\n"
   ]
  },
  {
   "cell_type": "code",
   "execution_count": null,
   "metadata": {},
   "outputs": [],
   "source": []
  }
 ],
 "metadata": {
  "kernelspec": {
   "display_name": "Python 3.10.5 ('python3.10')",
   "language": "python",
   "name": "python3"
  },
  "language_info": {
   "name": "python",
   "version": "3.10.5"
  },
  "orig_nbformat": 4,
  "vscode": {
   "interpreter": {
    "hash": "68133f5359dd7d77a1a9abe2b5892a90d419d375a983b39196dbcedad5e57625"
   }
  }
 },
 "nbformat": 4,
 "nbformat_minor": 2
}
