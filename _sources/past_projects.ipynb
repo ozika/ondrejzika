{
 "cells": [
  {
   "cell_type": "markdown",
   "metadata": {},
   "source": [
    "# research projects\n",
    "\n"
   ]
  },
  {
   "cell_type": "code",
   "execution_count": 1,
   "metadata": {},
   "outputs": [
    {
     "name": "stdout",
     "output_type": "stream",
     "text": [
      ":thumbsup:\n"
     ]
    }
   ],
   "source": [
    "import emoji\n",
    "print(emoji.emojize(\":thumbsup:\"))\n"
   ]
  }
 ],
 "metadata": {
  "kernelspec": {
   "display_name": "Python 3.10.5 ('python3.10')",
   "language": "python",
   "name": "python3"
  },
  "language_info": {
   "codemirror_mode": {
    "name": "ipython",
    "version": 3
   },
   "file_extension": ".py",
   "mimetype": "text/x-python",
   "name": "python",
   "nbconvert_exporter": "python",
   "pygments_lexer": "ipython3",
   "version": "3.10.5"
  },
  "orig_nbformat": 4,
  "vscode": {
   "interpreter": {
    "hash": "68133f5359dd7d77a1a9abe2b5892a90d419d375a983b39196dbcedad5e57625"
   }
  }
 },
 "nbformat": 4,
 "nbformat_minor": 2
}
