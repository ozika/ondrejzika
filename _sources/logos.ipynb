{
 "cells": [
  {
   "cell_type": "markdown",
   "metadata": {},
   "source": [
    "# <table><tr><a href=\"https://twitter.com/OndrejZika\"><img src=\"https://encrypted-tbn0.gstatic.com/images?q=tbn:ANd9GcTh46i9wH7x3hhR2ertwF1LA1uBPVB0KThqp0hfp3hgxw&s\" width=\"35px\"></a> <a href=\"https://bsky.app/profile/ondrejzika.bsky.social\"><img src=\"https://upload.wikimedia.org/wikipedia/commons/7/7a/Bluesky_Logo.svg\" width=\"35px\"></a> <a href=\"https://scholar.google.com/citations?user=lk5DtbEAAAAJ&hl=en\"><img src=\"https://upload.wikimedia.org/wikipedia/commons/thumb/c/c7/Google_Scholar_logo.svg/1024px-Google_Scholar_logo.svg.png\" width=\"35px\"></a><a href=\"https://github.com/ozika\"><img src=\"https://github.githubassets.com/images/modules/logos_page/GitHub-Mark.png\" width=\"42px\"></a></tr></table>\n"
   ]
  },
  {
   "cell_type": "code",
   "execution_count": null,
   "metadata": {},
   "outputs": [],
   "source": []
  }
 ],
 "metadata": {
  "kernelspec": {
   "display_name": "Python 3.10.6 64-bit",
   "language": "python",
   "name": "python3"
  },
  "language_info": {
   "name": "python",
   "version": "3.10.6"
  },
  "orig_nbformat": 4,
  "vscode": {
   "interpreter": {
    "hash": "8a94588eda9d64d9e9a351ab8144e55b1fabf5113b54e67dd26a8c27df0381b3"
   }
  }
 },
 "nbformat": 4,
 "nbformat_minor": 2
}
