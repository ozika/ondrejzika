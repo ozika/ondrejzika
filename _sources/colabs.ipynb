{
 "cells": [
  {
   "cell_type": "markdown",
   "metadata": {},
   "source": [
    "# Collaborators and funding\n",
    "\n",
    "I am very fortunate to be able to work with the following scientists:\n",
    "\n",
    "\n",
    "[Chi (Zoe) Ngo](https://www.mpib-berlin.mpg.de/staff/chi-zoe-ngo), MPIB   \n",
    "[Katja Wiech](https://www.ndcn.ox.ac.uk/team/katja-wiech), Oxford  \n",
    "[Claire Gillan](https://gillanlab.com/clairegillan/), Trinity College Dublin    \n",
    "[Nico Schuck](https://schucklab.gitlab.io/), Hamburg   \n",
    "[Kristoffer Månsson](https://ki.se/en/people/kristoffer-mansson), Karolinska Institute, Sweden  \n",
    "[Michael Browning](https://www.psych.ox.ac.uk/team/michael-browning), Oxford   \n",
    "[Andrea Reinecke](https://www.psych.ox.ac.uk/team/andrea-reinecke), Oxford   \n",
    "[Tina Lonsdorf](https://ekvv.uni-bielefeld.de/pers_publ/publ/PersonDetail.jsp?personId=413016157), Bielefeld   \n",
    "[Lotte Stemerding](https://www.uva.nl/en/profile/s/t/l.e.stemerding/l.e.stemerding.html), University of Amsterdam  \n",
    "[Sam Hall-McMaster](https://scholar.google.com/citations?user=4qeqKOgAAAAJ&hl=en), MPIB, Harvard   \n",
    "\n",
    "\n",
    "\n",
    "#### Funding\n",
    "\n",
    "```{image} img/dfg.jpg\n",
    ":width: 350px\n",
    "\n",
    "```\n",
    "```{image} img/jacobs.jpeg\n",
    ":width: 350px\n",
    "\n",
    "```\n"
   ]
  }
 ],
 "metadata": {
  "kernelspec": {
   "display_name": "Python 3.10.6 64-bit",
   "language": "python",
   "name": "python3"
  },
  "language_info": {
   "name": "python",
   "version": "3.10.6"
  },
  "orig_nbformat": 4,
  "vscode": {
   "interpreter": {
    "hash": "8a94588eda9d64d9e9a351ab8144e55b1fabf5113b54e67dd26a8c27df0381b3"
   }
  }
 },
 "nbformat": 4,
 "nbformat_minor": 2
}
