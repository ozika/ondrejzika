{
 "cells": [
  {
   "cell_type": "markdown",
   "metadata": {},
   "source": [
    "# CV\n",
    "\n",
    "{download}`Full CV PDF<docs/Zika_Ondrej_CV.pdf>`\n",
    "\n",
    "#### Education\n",
    "\n",
    "**2015 - 2019: DPhil in Clinical Neuroscience**  \n",
    "*Oxford University, UK* \n",
    "\n",
    "**2010 - 2014: BScEcon Marketing and Psychology**  \n",
    "*Aberystwyth University, Wales*\n",
    "\n",
    "---\n",
    " \n",
    "#### Academic positions\n",
    "\n",
    "**2025 - present: ERC Fellow at Bielefeld University**  \n",
    "*Independent researcher, adjunct affiliate with Prof Tina Lonsdorf*\n",
    "\n",
    "**2024 - present: Research Scientist at Karolinska Institute**  \n",
    "*w/ Kristoffer Månsson*\n",
    "\n",
    "**2019 - 2024: Postdoc in Computational Cognitive Neuroscience**  \n",
    "*w/ Nico Schuck, Max Planck Institute for Human Development, Berlin*\n",
    "\n",
    "**2021 - 2022: Guest Editor of Special Issue on Intolerance of Uncertainty**  \n",
    "*International Journal for Psychophysiology*\n",
    "\n",
    "**2014 - 2015: Research Assistant in Affective Neuroscience**  \n",
    "*w/ Sonia Bishop lab, Oxford*\n",
    "\n",
    "**2013 - 2014: Visiting Rsearcher**  \n",
    "*University of Bangor, w/ Guillaume Thierry*\n",
    "\n",
    "**2012 - 2013: Research Assistant**  \n",
    "*w/ John O'Doherty lab, California Institute of Technology, US*\n",
    "\n",
    "---\n",
    "\n",
    "#### Other positions\n",
    "\n",
    "**2016 - 2020: Research Analyst and Developer**  \n",
    "*German Ministry of Justice and University of Westminster*\n",
    "\n",
    "**2015 - 2016: Statistics Consultant**  \n",
    "*University of Oxford, Department of Law*\n",
    "\n",
    "\n",
    "\n",
    "---\n",
    "\n",
    "#### Public engagement\n",
    "\n",
    "**2018:  In2Science programe**\n",
    "*Had a great time hosting Alex Davies in the lab, doing an aversive learning experiment and full analysis in 1 week together!* [public post](https://www.ndcn.ox.ac.uk/news/young-people-get-a-taste-of-working-in-our-labs) \n",
    "\n",
    "\n"
   ]
  }
 ],
 "metadata": {
  "kernelspec": {
   "display_name": "Python 3.10.6 64-bit",
   "language": "python",
   "name": "python3"
  },
  "language_info": {
   "name": "python",
   "version": "3.10.6"
  },
  "orig_nbformat": 4,
  "vscode": {
   "interpreter": {
    "hash": "8a94588eda9d64d9e9a351ab8144e55b1fabf5113b54e67dd26a8c27df0381b3"
   }
  }
 },
 "nbformat": 4,
 "nbformat_minor": 2
}
