{
 "cells": [
  {
   "cell_type": "markdown",
   "metadata": {},
   "source": [
    "# Software\n",
    "\n",
    "I am not a software developer, however, when I write a piece of code that I think could be helpful to others I try to package it. \n",
    "\n",
    "[**groo**](https://pypi.org/project/groo-ozika/) - *find your Python root*   \n",
    "A tool for identify the root of the current project. Inspired by R's `here` package. Termed *the most useful thirteen lines of code for reproducible research in Python* by no one. \n",
    "\n",
    "\n",
    "[**bammm**](https://pypi.org/project/bammm-ozika/) - bambi/pymc model management  \n",
    "A  tool to help one keep track of estimated Bayesian models in python (pymc) in a handy JSON structure. If `bammm` detects that a given model has already been estimated it loads the results. This makes Bayesian linear mixed effects models in python almost as usable as `lmer` in `R`. "
   ]
  },
  {
   "cell_type": "markdown",
   "metadata": {},
   "source": []
  }
 ],
 "metadata": {
  "kernelspec": {
   "display_name": "Python 3.10.6 64-bit",
   "language": "python",
   "name": "python3"
  },
  "language_info": {
   "name": "python",
   "version": "3.10.6"
  },
  "orig_nbformat": 4,
  "vscode": {
   "interpreter": {
    "hash": "8a94588eda9d64d9e9a351ab8144e55b1fabf5113b54e67dd26a8c27df0381b3"
   }
  }
 },
 "nbformat": 4,
 "nbformat_minor": 2
}
