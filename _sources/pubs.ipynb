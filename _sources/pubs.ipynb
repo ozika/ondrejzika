{
 "cells": [
  {
   "cell_type": "markdown",
   "metadata": {},
   "source": [
    "\n",
    "\n",
    "# Publications\n",
    "\n",
    "\n",
    "{bdg-primary}`uncertainty`\n",
    "{bdg-success}`neuroimaging`\n",
    "{bdg-warning}`modelling`\n",
    "{bdg-danger}`anxiety`\n",
    "{bdg-info}`mental health`\n",
    "{bdg-dark}`ageing`\n",
    "{bdg-secondary}`learning and choice`\n",
    "{bdg-dark-line}`generalisation`\n",
    "\n",
    "\n",
    "### Journal articles\n",
    "\n",
    "**Zika, O.** (2023, preprint). The relationship between latent state inference and intolerance of uncertainty.\n",
    "{bdg-warning}`modelling` {bdg-secondary}`learning and choice` \n",
    "\n",
    "**Zika, O.**, Appel, J., Klinge, C., Shkreli, L., Browning, M., Wiech, K. A. and Reinecke, A. (*submitted*). Reduction of aversive learning rates by Angiotensin II antagonist losartan.  \n",
    "{bdg-danger}`anxiety` {bdg-warning}`modelling` {bdg-secondary}`learning and choice`  \n",
    "\n",
    "**Zika, O.**, Wiech, K. A., Reinecke, A., Browning, M. and Schuck, N. W. (2023). Trait anxiety is associated with hidden state inference during aversive reversal learning. *Nature Communications*, preprint version: https://www.biorxiv.org/content/early/2022/04/28/2022.04.01.483303.full.pdf  \n",
    "{bdg-danger}`anxiety` {bdg-primary}`uncertainty` {bdg-warning}`modelling` {bdg-secondary}`learning and choice`\n",
    "\n",
    "Morriss, J., Abend, R., **Zika, O.**, Bradford, D. E., & Mertens, G. (2023). Neural and psychophysiological markers of intolerance of uncertainty. https://doi.org/10.1016/j.ijpsycho.2023.01.003   \n",
    "{bdg-primary}`uncertainty` \n",
    "\n",
    "\n",
    "Koch, C., **Zika, O.**, & Schuck, N. W. (2022, *preprint*). Influence of surprise on reinforcement learning in younger and older adults. https://doi.org/10.31234/osf.io/unx5y  \n",
    "{bdg-dark}`aging` {bdg-warning}`modelling` {bdg-secondary}`learning and choice`\n",
    "\n",
    "\n",
    "Gagne, Ch., **Zika, O.**, Dayan, P. and Bishop, S. J. (2020). Impaired adaptation of learning to contingency volatility in internalizing psychopathology. *eLife*, 9:e61387. https://doi.org/10.7554/eLife.61387    \n",
    "{bdg-info}`mental health` {bdg-warning}`modelling` {bdg-primary}`uncertainty` {bdg-secondary}`learning and choice`\n",
    "\n",
    "\n",
    "Bijsterbosch, J. D., Ansari, T. L., Smith, S., Gauld, O., **Zika, O.**, Boessenkool, S., Browning, M., Reinecke, A. and Bishop, S. J. (2018) Stratification of mdd and gad patients by resting state brain connectivity predicts cognitive bias. *NeuroImage: Clinical*, 19:425–433. https://doi.org/10.1016/j.nicl.2018.04.033   \n",
    "{bdg-danger}`anxiety` {bdg-success}`neuroimaging`\n",
    "\n",
    "\n",
    "Gao, S., **Zika, O.**, Rogers, R. D. and Thierry, G. (2015). Second language feedback abolishes the hot hand effect during even-probability gambling. *Journal of Neuroscience*, 35(15):5983–5989. https://www.jneurosci.org/content/35/15/5983   \n",
    "{bdg-primary}`uncertainty` {bdg-secondary}`learning and choice`\n",
    "\n",
    "\n",
    "McNamee, D., Liljeholm, M., **Zika, O.** and O'Doherty, J. (2015). Characterizing the associative content of brain structures involved in habitual and goal-directed actions in humans: a multivariate fmri study. *Journal of Neuroscience*, 35(9):3764–3771. https://www.jneurosci.org/content/35/9/3764   \n",
    "{bdg-success}`neuroimaging` {bdg-secondary}`learning and choice`\n",
    "\n",
    "\n",
    "### PhD thesis\n",
    "\n",
    "**Zika, O.** (2019). Computational and neural mechanisms of human aversive learning [PhD thesis]. University of Oxford. https://ora.ox.ac.uk/objects/uuid:91254979-d43c-4ecb-8efc-aae5fa26ccd6 \n",
    "\n",
    "\n"
   ]
  },
  {
   "cell_type": "markdown",
   "metadata": {},
   "source": []
  }
 ],
 "metadata": {
  "kernelspec": {
   "display_name": "Python 3.10.6 64-bit",
   "language": "python",
   "name": "python3"
  },
  "language_info": {
   "name": "python",
   "version": "3.10.6"
  },
  "orig_nbformat": 4,
  "vscode": {
   "interpreter": {
    "hash": "8a94588eda9d64d9e9a351ab8144e55b1fabf5113b54e67dd26a8c27df0381b3"
   }
  }
 },
 "nbformat": 4,
 "nbformat_minor": 2
}
